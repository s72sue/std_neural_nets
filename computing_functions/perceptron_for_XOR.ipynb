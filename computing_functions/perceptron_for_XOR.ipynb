{
 "cells": [
  {
   "cell_type": "markdown",
   "metadata": {},
   "source": [
    "## Perceptron for computing XOR funtion"
   ]
  },
  {
   "cell_type": "markdown",
   "metadata": {},
   "source": [
    "A perceptron used to compute XOR function using a three dimensional ensemble in the input layer and a one dimensional ensemble in the output layer. One of the dimensions in the input is used for providing the bias. Using a three dimensional ensemble means that the information about all dimensions is available to the ensemble, so no hidden layer is needed, and the same network which was used to compute the AND & OR functions can be used to compute the XOR function.\n",
    "\n",
    "\n",
    "Similar to AND & OR networks, here again, error driven learning (through the PES learning rule) is used to train the perceptron, and learning is turned off for the last quarter for testing. The perceptron is provided one input sample every second both during the training and the testing phase. L2-regularized least-squares solver is used by the perceptron to solve for the weights during the training period."
   ]
  },
  {
   "cell_type": "code",
   "execution_count": 1,
   "metadata": {},
   "outputs": [
    {
     "data": {
      "image/png": "[encoded data removed]",
      "text/plain": [
       "<Figure size 432x288 with 1 Axes>"
      ]
     },
     "metadata": {
      "needs_background": "light"
     },
     "output_type": "display_data"
    }
   ],
   "source": [
    "%matplotlib inline\n",
    "import nengo\n",
    "from nengo.dists import Uniform\n",
    "from nengo.utils.ensemble import response_curves, tuning_curves\n",
    "import numpy as np\n",
    "import matplotlib.pyplot as plt\n",
    "\n",
    "\n",
    "def generateData(n, function):\n",
    "    \"\"\" \n",
    "    generates a 2D non-linearly separable bianry dataset \n",
    "    \"\"\"\n",
    "    inputs = []\n",
    "    \n",
    "    if function == \"XOR\":\n",
    "        for i in range(n):\n",
    "            inputs.append([0,0,1,[0]])\n",
    "            inputs.append([0,1,1,[1]])\n",
    "            inputs.append([1,0,1,[1]])\n",
    "            inputs.append([1,1,1,[0]])    \n",
    "    return inputs\n",
    "\n",
    "\n",
    "samples = 140 \n",
    "sets = samples / 4\n",
    "data = generateData(sets, \"XOR\")\n",
    "\n",
    "plt.figure()\n",
    "plt.title(\"Input Sample Points\")\n",
    "plt.xlim(-0.5,1.5)\n",
    "plt.ylim(-0.5,1.5)\n",
    "for x in data:\n",
    "    if x[3][0] == 1:\n",
    "        plt.plot(x[0], x[1], 'or')\n",
    "    else:\n",
    "        plt.plot(x[0], x[1], 'ob')"
   ]
  },
  {
   "cell_type": "markdown",
   "metadata": {},
   "source": [
    "Two of the input sample points have an output of 0 (blue) and two sample points have an output of 1 (red). Note that this set is not linearly separable."
   ]
  },
  {
   "cell_type": "code",
   "execution_count": null,
   "metadata": {},
   "outputs": [],
   "source": [
    "N = 30      #number of neurons\n",
    "D_inp = 3\n",
    "D_out = 1\n",
    "factor = 3.0/4.0  \n",
    "sim_time = samples\n",
    "neuron_mode = nengo.Sigmoid(tau_ref=0.0025)  \n",
    "model = nengo.Network('XOR Network')\n",
    "\n",
    "weights = np.random.rand(D_inp,D_out).transpose()    \n",
    "\n",
    "with model:  \n",
    "    \n",
    "    def stim(t):\n",
    "        for i in range(samples):\n",
    "            if int(t) % samples <= i:\n",
    "                return [data[i][0], data[i][1], data[i][2]]\n",
    "        return 0\n",
    "       \n",
    "    def stim_ans(t):\n",
    "        for i in range(samples):\n",
    "            if int(t) % samples <= i:\n",
    "                return data[i][3]\n",
    "        return 0 \n",
    "      \n",
    "    #Define perceptron inputs\n",
    "    stim = nengo.Node(output=stim, size_out=D_inp)\n",
    "    stim_ans = nengo.Node(output=stim_ans, size_out=D_out)\n",
    "\n",
    "    #Create neural ensembles\n",
    "    input = nengo.Ensemble(N*D_inp, dimensions=D_inp, neuron_type=neuron_mode, intercepts=Uniform(0.25, 1), max_rates=Uniform(350, 400), label=\"input\") \n",
    "    answer = nengo.Ensemble(N*D_out, dimensions=D_out, neuron_type=neuron_mode, intercepts=Uniform(0.25, 1), max_rates=Uniform(350, 400), label=\"answer\")  \n",
    "    correct_answer = nengo.Ensemble(N*D_out, dimensions=D_out, neuron_type=neuron_mode, intercepts=Uniform(0.25, 1), max_rates=Uniform(350, 400), label=\"correct_answer\")\n",
    "    \n",
    "    #Provide inputs to the perceptron\n",
    "    nengo.Connection(stim, input) \n",
    "    nengo.Connection(stim_ans, correct_answer)\n",
    "    \n",
    "    #Compute error for learning which gets inhibited\n",
    "    error = nengo.Ensemble(N*D_out, dimensions=D_out, neuron_type=neuron_mode, intercepts=Uniform(0.25, 1), max_rates=Uniform(350, 400), label=\"error\")\n",
    "    nengo.Connection(answer, error, transform=1)\n",
    "    nengo.Connection(correct_answer, error, transform=-1)\n",
    "    \n",
    "    #Compute the actual error\n",
    "    actual_error = nengo.Ensemble(N*D_out, dimensions=D_out, neuron_type=neuron_mode, label=\"actual_error\")       \n",
    "    nengo.Connection(answer ,actual_error, transform=1)\n",
    "    nengo.Connection(correct_answer, actual_error, transform=-1)\n",
    "    \n",
    "    #Specify the learning rule and the weight solver\n",
    "    conn = nengo.Connection(input, answer, transform=weights, solver=nengo.solvers.LstsqL2(weights=True)) \n",
    "    conn.learning_rule_type={'my_pes': nengo.PES(learning_rate = 1e-4)}\n",
    "    \n",
    "    #Provide error for learning\n",
    "    error_conn = nengo.Connection(error, conn.learning_rule['my_pes'])\n",
    "        \n",
    "    #Inhibit learning after the training period\n",
    "    def inhibit(t):\n",
    "        return 2.0 if t > int(factor*samples) else 0.0\n",
    "     \n",
    "    inhib = nengo.Node(inhibit)\n",
    "    nengo.Connection(inhib, error.neurons, transform=[[-10]] * error.n_neurons)"
   ]
  },
  {
   "cell_type": "code",
   "execution_count": null,
   "metadata": {},
   "outputs": [],
   "source": [
    "with model:\n",
    "    input_p = nengo.Probe(input, synapse=0.1)\n",
    "    answer_p = nengo.Probe(answer, synapse=0.1)\n",
    "    correct_answer_p = nengo.Probe(correct_answer, synapse=0.1)\n",
    "    error_p = nengo.Probe(error, synapse=0.1)\n",
    "    actual_error = nengo.Probe(actual_error, synapse=0.1) "
   ]
  },
  {
   "cell_type": "code",
   "execution_count": null,
   "metadata": {},
   "outputs": [],
   "source": [
    "sim = nengo.Simulator(model)\n",
    "sim.run(sim_time)\n",
    "t = sim.trange()"
   ]
  },
  {
   "cell_type": "code",
   "execution_count": null,
   "metadata": {},
   "outputs": [],
   "source": [
    "fig = plt.figure(figsize=(12, 3))\n",
    "p0 = plt.subplot(1, 2, 1)\n",
    "p0.plot(*response_curves(answer, sim))\n",
    "p0.set_title(\"Response curves\")\n",
    "\n",
    "p1 = plt.subplot(1, 2, 2)\n",
    "p1.plot(t, sim.data[input_p])\n",
    "p1.set_title(\"Input\")\n",
    "p1.set_xlim(0,20)\n",
    "\n",
    "fig = plt.figure(figsize=(18,18))\n",
    "\n",
    "p0 = fig.add_subplot(4,1,1)\n",
    "p0.plot(t, sim.data[input_p])\n",
    "p0.set_title(\"Input\")\n",
    "\n",
    "p1 = fig.add_subplot(4,1,2)\n",
    "p1.plot(t, sim.data[answer_p], label=\"answer\")\n",
    "p1.plot(t, sim.data[correct_answer_p], label=\"correct answer\", color='r')\n",
    "p1.set_title(\"Output\")\n",
    "p1.legend(loc='best');\n",
    "\n",
    "p2 = fig.add_subplot(4,1,3)\n",
    "p2.plot(t, sim.data[error_p])\n",
    "p2.set_title(\"Error for learning\")\n",
    "\n",
    "p3 = fig.add_subplot(4,1,4)\n",
    "p3.plot(t, sim.data[actual_error])\n",
    "p3.set_title(\"Acutal Error\")"
   ]
  },
  {
   "cell_type": "markdown",
   "metadata": {},
   "source": [
    "The input plot shows that one input sample is provided to the perceptron every second. The 'output' plot and the 'Actual Error' plot above shows that the answer produced by the perceptron is very close to the correct answer even when the learning is turned off. The 'Error for learning' plot shows that the learning was turned off for the last quarter (i.e., the testing phase). \n",
    "\n",
    "Thus the network was successfully able to compute the XOR function."
   ]
  },
  {
   "cell_type": "code",
   "execution_count": null,
   "metadata": {},
   "outputs": [],
   "source": [
    "#Nengo GUI visualizer for visualizing the network\n",
    "from nengo_gui.ipython import IPythonViz\n",
    "IPythonViz(model)"
   ]
  }
 ],
 "metadata": {
  "kernelspec": {
   "display_name": "nengo_venv",
   "language": "python",
   "name": "nengo_venv"
  },
  "language_info": {
   "codemirror_mode": {
    "name": "ipython",
    "version": 2
   },
   "file_extension": ".py",
   "mimetype": "text/x-python",
   "name": "python",
   "nbconvert_exporter": "python",
   "pygments_lexer": "ipython2",
   "version": "2.7.17"
  }
 },
 "nbformat": 4,
 "nbformat_minor": 1
}
